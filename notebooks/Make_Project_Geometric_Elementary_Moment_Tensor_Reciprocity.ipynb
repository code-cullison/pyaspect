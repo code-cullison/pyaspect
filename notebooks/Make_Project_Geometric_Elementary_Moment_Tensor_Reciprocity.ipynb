{
 "cells": [
  {
   "cell_type": "markdown",
   "metadata": {},
   "source": [
    "# Gemetric Test of Reciprocity Moment Tensors"
   ]
  },
  {
   "cell_type": "markdown",
   "metadata": {},
   "source": [
    "### Step 0\n",
    "\n",
    "Load packages"
   ]
  },
  {
   "cell_type": "code",
   "execution_count": null,
   "metadata": {},
   "outputs": [],
   "source": [
    "#load all packages\n",
    "import datetime\n",
    "import pickle\n",
    "import copy\n",
    "import os\n",
    "\n",
    "from sys import argv\n",
    "from pathlib import Path\n",
    "\n",
    "import numpy as np\n",
    "import pandas as pd\n",
    "import pyvista as pv\n",
    "import matplotlib.pyplot as plt \n",
    "from matplotlib.colors import Normalize\n",
    "\n",
    "\n",
    "from pyaspect.project import *\n",
    "from pyaspect.model.gridmod3d import gridmod3d as gm\n",
    "from pyaspect.model.bbox import bbox as bb\n",
    "from pyaspect.model.gm3d_utils import *\n",
    "from pyaspect.moment_tensor import MomentTensor\n",
    "from pyaspect.specfemio.headers import *\n",
    "from pyaspect.specfemio.write import *\n",
    "from pyaspect.specfemio.write import _write_header\n",
    "from pyaspect.specfemio.read import *\n",
    "from pyaspect.specfemio.utils import *\n",
    "\n",
    "\n",
    "import pyaspect.events.gevents as gevents\n",
    "import pyaspect.events.gstations as gstations\n",
    "from pyaspect.events.munge.knmi import correct_station_depths as csd_f\n",
    "import pyaspect.events.mtensors as mtensors\n",
    "from obspy.imaging.beachball import beach\n",
    "from obspy import UTCDateTime\n",
    "import shapefile as sf\n",
    "\n",
    "from pyrocko.moment_tensor import MomentTensor as RockoMT"
   ]
  },
  {
   "cell_type": "markdown",
   "metadata": {},
   "source": [
    "### Step 1 \n",
    "\n",
    "Extract the ndarray of the subsampled, smoothed NAM model and instantiate a new GriddedModel3D object for QC'ing"
   ]
  },
  {
   "cell_type": "code",
   "execution_count": null,
   "metadata": {},
   "outputs": [],
   "source": [
    "data_in_dir  = 'data/output/'\n",
    "data_out_dir = data_in_dir\n",
    "!ls {data_in_dir}\n",
    "!ls data/groningen"
   ]
  },
  {
   "cell_type": "markdown",
   "metadata": {},
   "source": [
    "### Step 6 \n",
    "\n",
    "Decompress the ndarray of the sliced, subsampled, smoothed NAM model and instantiate a new GriddedModel3D object for QC'ing"
   ]
  },
  {
   "cell_type": "code",
   "execution_count": null,
   "metadata": {},
   "outputs": [],
   "source": [
    "# set filename then used it to decompress model\n",
    "ifqn = f'{data_out_dir}/vsliced_subsmp_smth_nam_2017_vp_vs_rho_Q_model_dx100_dy100_dz100_maxdepth5850_sig250.npz'\n",
    "vslice_gm3d, other_pars = decompress_gm3d_from_file(ifqn)\n",
    "\n",
    "print()\n",
    "print('decompressed gridded model\\n:',vslice_gm3d) \n",
    "print()\n",
    "print('other parameters:\\n',other_pars)\n",
    "print()\n",
    "\n",
    "# WARNING: this will unpack all other_pars, if you overwrite a variable of the samename as val(key), then you \n",
    "#          may not notice, and this may cause large headaches.  I use it because I am aware of it.\n",
    "'''\n",
    "for key in other_pars:\n",
    "    locals()[key] = other_pars[key]  #this is more advanced python than I think is reasonable for most \n",
    "sig_meters = sig\n",
    "''';\n",
    "\n",
    "# another way to get these varibles is just use the accessor functions for the gridmod3d.  We need them later.\n",
    "xmin = other_pars['xmin']\n",
    "dx   = other_pars['dx']\n",
    "nx   = other_pars['nx']\n",
    "ymin = other_pars['ymin']\n",
    "dy   = other_pars['dy']\n",
    "ny   = other_pars['ny']\n",
    "zmin = other_pars['zmin']\n",
    "dz   = other_pars['dz']\n",
    "nz   = other_pars['nz']\n",
    "sig_meters = other_pars['sig']  # this variable is used later\n",
    "print('sig_meters:',sig_meters)"
   ]
  },
  {
   "cell_type": "code",
   "execution_count": null,
   "metadata": {},
   "outputs": [],
   "source": [
    "# Create the spatial reference\n",
    "grid = pv.UniformGrid()\n",
    "\n",
    "# Set the grid dimensions: shape + 1 because we want to inject our values on\n",
    "#   the CELL data\n",
    "nam_dims = list(vslice_gm3d.get_npoints())\n",
    "nam_origin = [0,0,-vslice_gm3d.get_gorigin()[2]]\n",
    "#nam_origin = list(vslice_gm3d.get_gorigin())\n",
    "#nam_origin[2] *= -1\n",
    "nam_origin = tuple(nam_origin)\n",
    "nam_spacing = list(vslice_gm3d.get_deltas())\n",
    "nam_spacing[2] *=-1\n",
    "nam_spacing = tuple(nam_spacing)\n",
    "print('nam_dims:',nam_dims)\n",
    "print('nam_origin:',nam_origin)\n",
    "print('nam_spacing:',nam_spacing)\n",
    "\n",
    "# Edit the spatial reference\n",
    "grid.dimensions = np.array(nam_dims) + 1\n",
    "grid.origin = nam_origin  # The bottom left corner of the data set\n",
    "grid.spacing = nam_spacing  # These are the cell sizes along each axis\n",
    "nam_pvalues = vslice_gm3d.getNPArray()[0]\n",
    "print('pvalues.shape:',nam_pvalues.shape)\n",
    "\n",
    "# Add the data values to the cell data\n",
    "grid.cell_arrays[\"values\"] = nam_pvalues.flatten(order=\"F\")  # Flatten the array!\n",
    "\n",
    "# Now plot the grid!\n",
    "cmap = plt.cm.jet\n",
    "#grid.plot(show_edges=True,cmap=cmap)\n",
    "grid.plot(cmap=cmap,opacity=1.0)\n"
   ]
  },
  {
   "cell_type": "code",
   "execution_count": null,
   "metadata": {},
   "outputs": [],
   "source": [
    "slices = grid.slice_orthogonal()\n",
    "\n",
    "#slices.plot(show_edges=True,cmap=cmap)\n",
    "slices.plot(cmap=cmap)"
   ]
  },
  {
   "cell_type": "markdown",
   "metadata": {},
   "source": [
    "## create virtual recievers (CMT solutions in forwards sense)"
   ]
  },
  {
   "cell_type": "code",
   "execution_count": null,
   "metadata": {},
   "outputs": [],
   "source": [
    "#coords = vslice_gm3d.getGlobalCoordsPointsXYZ()\n",
    "coords = vslice_gm3d.getLocalCoordsPointsXYZ()\n",
    "coords[:,2] = -coords[:,2]\n",
    "\n",
    "xc = np.unique(coords.T[0,:])\n",
    "yc = np.unique(coords.T[1,:])\n",
    "zc = np.unique(coords.T[2,:])\n",
    "\n",
    "\n",
    "#n_rand_p = 1000\n",
    "\n",
    "n_rand_p = 3\n",
    "np.random.seed(n_rand_p) #nothing special about using n_rand_p just want reproducible random\n",
    "\n",
    "#stay away from the edges of the model for derivatives \n",
    "# and to avoid boundary effects\n",
    "xy_pad = 500 \n",
    "\n",
    "lrx = np.min(xc) + xy_pad\n",
    "lry = np.min(yc) + xy_pad\n",
    "lrz = -3400.0\n",
    "\n",
    "hrx = np.max(xc) - xy_pad\n",
    "hry = np.max(yc) - xy_pad\n",
    "hrz = -2600.0\n",
    "\n",
    "srx = hrx - lrx\n",
    "sry = hry - lry\n",
    "srz = hrz - lrz\n",
    "\n",
    "    \n",
    "vrec_cmt_xyz = np.array([lrx + 0.33*srx,lry + 0.33*sry,-3000],dtype=np.float32).reshape((1,3))\n",
    "    \n",
    "\n",
    "print('cmt_xyz:\\n',vrec_cmt_xyz)\n"
   ]
  },
  {
   "cell_type": "code",
   "execution_count": null,
   "metadata": {},
   "outputs": [],
   "source": [
    "pv_rpoints = pv.wrap(vrec_cmt_xyz)\n",
    "p = pv.Plotter()\n",
    "slices = grid.slice_orthogonal()\n",
    "#p.add_mesh(slices,cmap=cmap,opacity=0.50)\n",
    "#p.add_mesh(slices,cmap=cmap,opacity=1)\n",
    "p.add_mesh(grid,cmap=cmap,opacity=0.50)\n",
    "p.add_mesh(pv_rpoints, render_points_as_spheres=True, point_size=5,opacity=1.0)\n",
    "\n",
    "p.show()"
   ]
  },
  {
   "cell_type": "markdown",
   "metadata": {},
   "source": [
    "## Make Moment Tensors and CMTSolutionHeaders for each tensor"
   ]
  },
  {
   "cell_type": "code",
   "execution_count": null,
   "metadata": {},
   "outputs": [],
   "source": [
    "def CMTtoM0(CMTsol):\n",
    "    A = np.array(([CMTsol[0],CMTsol[3],CMTsol[4]],\n",
    "                  [CMTsol[3],CMTsol[1],CMTsol[5]],\n",
    "                  [CMTsol[4],CMTsol[5],CMTsol[2]]))\n",
    "    M0 = ((1/np.sqrt(2))*np.sqrt(np.sum(A*A)))\n",
    "    \n",
    "    return(M0)\n",
    "\n",
    "def aki_from_sdr(strike,dip,rake,M0):\n",
    "    from math import sin,cos\n",
    "    \n",
    "    print('input M0:',M0)\n",
    "    \"\"\"\n",
    "    converts given strike/dip/rake to moment tensor\n",
    "    \"\"\"\n",
    "    S = strike\n",
    "    D = dip\n",
    "    R = rake\n",
    "\n",
    "    # PI / 180 to convert degrees to radians\n",
    "    d2r =  0.017453293\n",
    "\n",
    "    print(\"Strike    = %9.5f degrees\" % S)\n",
    "    print(\"Dip       = %9.5f degrees\" % D)\n",
    "    print(\"Rake/Slip = %9.5f degrees\" % R)\n",
    "    print(\"\")\n",
    "\n",
    "    # convert to radians\n",
    "    S *= d2r\n",
    "    D *= d2r\n",
    "    R *= d2r\n",
    "\n",
    "    '''\n",
    "    # Aki & Richards\n",
    "    Mxx = -1.0 * ( sin(D) * cos(R) * sin (2*S) + sin(2*D) * sin(R) * sin(S)*sin(S) )\n",
    "    Myy =        ( sin(D) * cos(R) * sin (2*S) - sin(2*D) * sin(R) * cos(S)*cos(S) )\n",
    "    Mzz = -1.0 * ( Mxx + Myy)\n",
    "    Mxy =        ( sin(D) * cos(R) * cos (2*S) + 0.5 * sin(2*D) * sin(R) * sin(2*S) )\n",
    "    Mxz = -1.0 * ( cos(D) * cos(R) * cos (S)   + cos(2*D) * sin(R) * sin(S) )\n",
    "    Myz = -1.0 * ( cos(D) * cos(R) * sin (S)   - cos(2*D) * sin(R) * cos(S) )\n",
    "    ''';\n",
    "    \n",
    "            #Aki and Richards\n",
    "    Mxx = -( np.sin(D)*np.cos(R)*np.sin(2*S) + np.sin(2*D)*np.sin(R)*(np.sin(S)**2) )\n",
    "    Myy =  ( np.sin(D)*np.cos(R)*np.sin(2*S) - np.sin(2*D)*np.sin(R)*(np.cos(S)**2) )\n",
    "    Mzz = -( Mxx + Myy )\n",
    "    Mxy =  ( np.sin(D)*np.cos(R)*np.cos(2*S) + 0.5*np.sin(2*D)*np.sin(R)*np.sin(2*S) )\n",
    "    Mxz = -( np.cos(D)*np.cos(R)*np.cos(S)   + np.cos(2*D)*np.sin(R)*np.sin(S) )\n",
    "    Myz = -( np.cos(D)*np.cos(R)*np.sin(S)   - np.cos(2*D)*np.sin(R)*np.cos(S) )\n",
    "    \n",
    "\n",
    "    a_mt = np.array([Mxx,Myy,Mzz,Mxy,Mxz,Myz])\n",
    "    a_mt *= M0\n",
    "    \n",
    "    # Harvard CMT\n",
    "    Mtt = a_mt[0] #Mxx \n",
    "    Mpp = a_mt[1] #Myy \n",
    "    Mrr = a_mt[2] #Mzz \n",
    "    Mtp = -1.0*a_mt[3] #Mxy\n",
    "    Mrt = a_mt[4] #Mxz \n",
    "    Mrp = -1.0*a_mt[5] #Myz\n",
    "    \n",
    "    h_mt = np.array([Mrr,Mtt,Mpp,Mrt,Mrp,Mtp])\n",
    "    \n",
    "    \n",
    "\n",
    "    print(\"Aki&Richards1980:  Mxx  Myy  Mzz  Mxy  Mxz  Myz\")\n",
    "    print(\"%9.5f %9.5f %9.5f %9.5f %9.5f %9.5f\\n\" %(tuple(a_mt)))\n",
    "    print(\"M0:\",CMTtoM0(a_mt))\n",
    "    print()\n",
    "    print(\"Harvard:  Mrr  Mtt  Mpp  Mrt  Mrp  Mtp\")\n",
    "    print(\"%9.5f %9.5f %9.5f %9.5f %9.5f %9.5f\\n\" %(tuple(h_mt)))\n",
    "    print(\"M0:\",CMTtoM0(h_mt))\n",
    "    print()\n",
    "    \n",
    "    return a_mt"
   ]
  },
  {
   "cell_type": "raw",
   "metadata": {
    "scrolled": true
   },
   "source": [
    "# this is the path to the project dir on the cluster\n",
    "my_proj_dir = '/scratch/seismology/tcullison/test_mesh/FWD_Batch_Src_Test'\n",
    "\n",
    "m0 = 1\n",
    "mW = (np.log10(m0)-9.1)/1.5\n",
    "print(f'mW = {mW}')\n",
    "\n",
    "\n",
    "#(mnn, mee, mdd, mne, mnd, med, magnitude)\n",
    "#((mnn, mne, mnd), (mne, mee, med), (mnd, med, mdd))\n",
    "#Mnn = MomentTensor.from_values((0,0,0, 1, 0, 0,   mW))  #[[0,1,0],[1,0,0],[0,0,0]]  SPEC coord system\n",
    "Mnn = MomentTensor.from_values(((0,0,0),(0,1,0),(0,0,0)))  #[[0,1,0],[1,0,0],[0,0,0]]  SPEC coord system\n",
    "rMnn = RockoMT.from_values(((0,0,0),(0,1,0),(0,0,0)))  #[[0,1,0],[1,0,0],[0,0,0]]  SPEC coord system\n",
    "#rMnn = RockoMT(strike=45,dip=90,rake=180,scalar_moment=0.707107)\n",
    "#rMnn = RockoMT(strike=270,dip=45,rake=90,scalar_moment=5)\n",
    "print(f'MyMT normal: {Mnn}\\n\\n')\n",
    "print(f'PyRockoMT:   {rMnn}\\n\\n')\n",
    "print(f'pyrocko normal: {rMnn.m6()}\\n\\n')\n",
    "print(f'MyMT Aki:       {Mnn.aki_richards_m6()}\\n\\n')\n",
    "print(f'pyrocko harvard:{rMnn.m6_up_south_east()}\\n\\n')\n",
    "print(f'MyMT Aki:       {Mnn.harvard_m6()}\\n\\n')\n",
    "print(f'\\nsdr aki:{aki_from_sdr(270,45,90,5)}\\n')\n",
    "\n",
    "l_mt = [Mnn,rMnn]\n",
    "#l_mt = [Mne,Mnd,Med]\n",
    "\n",
    "for mt in l_mt:\n",
    "    print(f'mt: {mt}')\n",
    "    #print(f'mt_aki:\\n{mt.aki_richards_m6()}')\n",
    "    #print(f'mt_har:\\n{mt.harvard_m6()}')\n",
    "    \n",
    "l_cmt_srcs = []\n",
    "for i in range(len(r_xyz)):\n",
    "    cmt_h = CMTSolutionHeader(date=datetime.datetime.now(),\n",
    "                              ename=f'Event-{str(i).zfill(4)}',\n",
    "                              tshift=0.0,\n",
    "                              hdur=0.0,\n",
    "                              lat_yc=r_xyz[i,1],\n",
    "                              lon_xc=r_xyz[i,0],\n",
    "                              depth=-r_xyz[i,2],\n",
    "                              mt=l_mt[i],\n",
    "                              eid=i,\n",
    "                              sid=0)\n",
    "    l_cmt_srcs.append(cmt_h)\n",
    "    \n",
    "print()\n",
    "for cmt in l_cmt_srcs:\n",
    "    print(f'cmt:\\n{cmt}')\n",
    "    \n",
    "assert False"
   ]
  },
  {
   "cell_type": "raw",
   "metadata": {
    "scrolled": false
   },
   "source": [
    "# this is the path to the project dir on the cluster\n",
    "my_proj_dir = '/scratch/seismology/tcullison/test_mesh/FWD_Batch_Src_Test'\n",
    "\n",
    "m0 = 1\n",
    "mW = (np.log10(m0)-9.1)/1.5\n",
    "\n",
    "\n",
    "#(mnn, mee, mdd, mne, mnd, med, magnitude)\n",
    "#((mnn, mne, mnd), (mne, mee, med), (mnd, med, mdd))\n",
    "h_mat_xy = np.array([[0,0,0],[0,0,-1],[0,-1,0]])\n",
    "h_mat_xz = np.array([[0,0,1],[0,0,0],[1,0,0]])\n",
    "h_mat_yz = np.array([[0,-1,0],[-1,0,0],[0,0,0]])\n",
    "Mxy = MomentTensor(m_up_south_east=h_mat_xy)  #[[0,1,0],[1,0,0],[0,0,0]]  SPEC coord system\n",
    "Mxz = MomentTensor(m_up_south_east=h_mat_xz)  #[[0,0,0],[0,0,1],[0,1,0]]  SPEC coord system\n",
    "Myz = MomentTensor(m_up_south_east=h_mat_yz)  #[[0,0,1],[0,0,0],[1,0,0]]  SPEC coord system\n",
    "#Mxy = MomentTensor.from_values(((0,1, 0),(1,0, 0),( 0, 0,0)))  #[[0,1,0],[1,0,0],[0,0,0]]  SPEC coord system\n",
    "#Mxz = MomentTensor.from_values(((0,0, 0),(0,0,-1),( 0,-1,0)))  #[[0,0,0],[0,0,1],[0,1,0]]  SPEC coord system\n",
    "#Myz = MomentTensor.from_values(((0,0,-1),(0,0, 0),(-1, 0,0)))  #[[0,0,1],[0,0,0],[1,0,0]]  SPEC coord system\n",
    "print(f'Mxy: {Mxy}')\n",
    "print(f'Mxy PyR:       {Mxy.m6()}')\n",
    "print(f'Mxy Aki:       {Mxy.m6_east_north_up()}')\n",
    "print(f'Mxy Har:       {Mxy.m6_up_south_east()}\\n\\n')\n",
    "print(f'Mxz: {Mxz}')\n",
    "print(f'Mxz PyR:       {Mxz.m6()}')\n",
    "print(f'Mxz Aki:       {Mxz.m6_east_north_up()}')\n",
    "print(f'Mxz Har:       {Mxz.m6_up_south_east()}\\n\\n')\n",
    "print(f'Myz: {Myz}')\n",
    "print(f'Myz PyR:       {Myz.m6()}')\n",
    "print(f'Myz Aki:       {Myz.m6_east_north_up()}')\n",
    "print(f'Myz Har:       {Myz.m6_up_south_east()}\\n\\n')\n",
    "'''\n",
    "Mnn = MomentTensor.from_values(((1,0,0),(0,0,0),(0,0,0)))  #[[0,1,0],[1,0,0],[0,0,0]]  SPEC coord system\n",
    "Mee = MomentTensor.from_values(((0,0,0),(0,1,0),(0,0,0)))  #[[0,1,0],[1,0,0],[0,0,0]]  SPEC coord system\n",
    "Mdd = MomentTensor.from_values(((0,0,0),(0,0,0),(0,0,1)))  #[[0,1,0],[1,0,0],[0,0,0]]  SPEC coord system\n",
    "Mne = MomentTensor.from_values(((0,1,0),(1,0,0),(0,0,0)))  #[[0,1,0],[1,0,0],[0,0,0]]  SPEC coord system\n",
    "Mnd = MomentTensor.from_values(((0,0,-1),(0,0,0),(-1,0,0)))  #[[0,1,0],[1,0,0],[0,0,0]]  SPEC coord system\n",
    "Med = MomentTensor.from_values(((0,0,0),(0,0,1),(0,1,0)))  #[[0,1,0],[1,0,0],[0,0,0]]  SPEC coord system\n",
    "print(f'Mnn: {Mnn}')\n",
    "print(f'Mnn PyR:       {Mnn.m6()}')\n",
    "print(f'Mnn Aki:       {Mnn.m6_east_north_up()}')\n",
    "print(f'Mnn Har:       {Mnn.m6_up_south_east()}\\n\\n')\n",
    "print(f'Mee: {Mee}')\n",
    "print(f'Mee PyR:       {Mee.m6()}')\n",
    "print(f'Mee Aki:       {Mee.m6_east_north_up()}')\n",
    "print(f'Mee Har:       {Mee.m6_up_south_east()}\\n\\n')\n",
    "print(f'Mdd: {Mdd}')\n",
    "print(f'Mdd PyR:       {Mdd.m6()}')\n",
    "print(f'Mdd Aki:       {Mdd.m6_east_north_up()}')\n",
    "print(f'Mdd Har:       {Mdd.m6_up_south_east()}\\n\\n')\n",
    "print(f'Mne: {Mne}')\n",
    "print(f'Mne PyR:       {Mne.m6()}')\n",
    "print(f'Mne Aki:       {Mne.m6_east_north_up()}')\n",
    "print(f'Mne Har:       {Mne.m6_up_south_east()}\\n\\n')\n",
    "print(f'Mnd: {Mnd}')\n",
    "print(f'Mnd PyR:       {Mnd.m6()}')\n",
    "print(f'Mnd Aki:       {Mnd.m6_east_north_up()}')\n",
    "print(f'Mnd Har:       {Mnd.m6_up_south_east()}\\n\\n')\n",
    "print(f'Med: {Med}')\n",
    "print(f'Med PyR:       {Med.m6()}')\n",
    "print(f'Med Aki:       {Med.m6_east_north_up()}')\n",
    "print(f'Med Har:       {Med.m6_up_south_east()}\\n\\n')\n",
    "''';\n",
    "\n",
    "l_mt = [Mnn,rMnn]\n",
    "#l_mt = [Mne,Mnd,Med]\n",
    "\n",
    "for mt in l_mt:\n",
    "    print(f'mt: {mt}')\n",
    "    #print(f'mt_aki:\\n{mt.aki_richards_m6()}')\n",
    "    #print(f'mt_har:\\n{mt.harvard_m6()}')\n",
    "    \n",
    "l_cmt_srcs = []\n",
    "for i in range(len(r_xyz)):\n",
    "    cmt_h = CMTSolutionHeader(date=datetime.datetime.now(),\n",
    "                              ename=f'Event-{str(i).zfill(4)}',\n",
    "                              tshift=0.0,\n",
    "                              hdur=0.0,\n",
    "                              lat_yc=r_xyz[i,1],\n",
    "                              lon_xc=r_xyz[i,0],\n",
    "                              depth=-r_xyz[i,2],\n",
    "                              mt=l_mt[i],\n",
    "                              eid=i,\n",
    "                              sid=0)\n",
    "    l_cmt_srcs.append(cmt_h)\n",
    "    \n",
    "print()\n",
    "for cmt in l_cmt_srcs:\n",
    "    print(f'cmt:\\n{cmt}')\n",
    "    \n",
    "assert False"
   ]
  },
  {
   "cell_type": "code",
   "execution_count": null,
   "metadata": {
    "scrolled": false
   },
   "outputs": [],
   "source": [
    "# this is the path to the project dir on the cluster\n",
    "my_proj_dir = '/scratch/seismology/tcullison/test_mesh/FWD_Batch_Src_Test'\n",
    "\n",
    "m0 = 1\n",
    "mW = (np.log10(m0)-9.1)/1.5\n",
    "\n",
    "\n",
    "#(mnn, mee, mdd, mne, mnd, med, magnitude)\n",
    "#((mnn, mne, mnd), (mne, mee, med), (mnd, med, mdd))\n",
    "h_mat_xy = np.array([[0,0,0],[0,0,-1],[0,-1,0]])\n",
    "h_mat_xz = np.array([[0,0,1],[0,0,0],[1,0,0]])\n",
    "h_mat_yz = np.array([[0,-1,0],[-1,0,0],[0,0,0]])\n",
    "Mxy = MomentTensor(m_up_south_east=h_mat_xy)  #[[0,1,0],[1,0,0],[0,0,0]]  SPEC coord system\n",
    "Mxz = MomentTensor(m_up_south_east=h_mat_xz)  #[[0,0,0],[0,0,1],[0,1,0]]  SPEC coord system\n",
    "Myz = MomentTensor(m_up_south_east=h_mat_yz)  #[[0,0,1],[0,0,0],[1,0,0]]  SPEC coord system\n",
    "print(f'Mxy: {Mxy}')\n",
    "print(f'Mxy PyR:       {Mxy.m6()}')\n",
    "print(f'Mxy Aki:       {Mxy.m6_east_north_up()}')\n",
    "print(f'Mxy Har:       {Mxy.m6_up_south_east()}\\n\\n')\n",
    "print(f'Mxz: {Mxz}')\n",
    "print(f'Mxz PyR:       {Mxz.m6()}')\n",
    "print(f'Mxz Aki:       {Mxz.m6_east_north_up()}')\n",
    "print(f'Mxz Har:       {Mxz.m6_up_south_east()}\\n\\n')\n",
    "print(f'Myz: {Myz}')\n",
    "print(f'Myz PyR:       {Myz.m6()}')\n",
    "print(f'Myz Aki:       {Myz.m6_east_north_up()}')\n",
    "print(f'Myz Har:       {Myz.m6_up_south_east()}\\n\\n')\n",
    "\n",
    "l_mt = [('Harvard-XY',Mxy),('Harvard-XZ',Mxz),('Harvard-YZ',Myz)]\n",
    "\n",
    "for mt in l_mt:\n",
    "    print(f'mt: {mt}')\n",
    "    \n",
    "l_cmt_srcs = []\n",
    "for i in range(len(l_mt)):\n",
    "    cmt_h = CMTSolutionHeader(date=datetime.datetime.now(),\n",
    "                              ename=l_mt[i][0],\n",
    "                              #ename=f'Event-{str(i).zfill(4)}',\n",
    "                              tshift=0.0,\n",
    "                              hdur=0.0,\n",
    "                              lat_yc=vrec_cmt_xyz[0,1],\n",
    "                              lon_xc=vrec_cmt_xyz[0,0],\n",
    "                              depth=-vrec_cmt_xyz[0,2],\n",
    "                              mt=l_mt[i][1],\n",
    "                              #mt=l_mt[i],\n",
    "                              eid=i,\n",
    "                              sid=0)\n",
    "    l_cmt_srcs.append(cmt_h)\n",
    "    \n",
    "print()\n",
    "for cmt in l_cmt_srcs:\n",
    "    print(f'cmt:\\n{cmt}')\n",
    "    \n",
    "#assert False"
   ]
  },
  {
   "cell_type": "markdown",
   "metadata": {},
   "source": [
    "## Make Corresponding \"Virtual\" Recievers (including cross membors for derivatives) for the CMT's"
   ]
  },
  {
   "cell_type": "code",
   "execution_count": null,
   "metadata": {},
   "outputs": [],
   "source": [
    "m_delta = 50.0 # distance between cross stations for derivatives\n",
    "assert m_delta < xy_pad #see cells above this is padding\n",
    "#l_grp_vrecs = make_grouped_half_cross_reciprocal_station_headers_from_cmt_list(l_cmt_srcs,m_delta)\n",
    "l_grp_vrecs = make_grouped_cross_reciprocal_station_headers_from_cmt_list(l_cmt_srcs,m_delta)\n",
    "\n",
    "ig = 0\n",
    "for grp in l_grp_vrecs:\n",
    "    print(f'***** Group: {ig} *****\\n')\n",
    "    ir = 0\n",
    "    for gvrec in grp:\n",
    "        print(f'*** vrec: {ir} ***\\n{gvrec}')\n",
    "        ir += 1\n",
    "    ig += 1\n",
    "\n",
    "print(len(flatten_grouped_headers(l_grp_vrecs)))\n",
    "    "
   ]
  },
  {
   "cell_type": "markdown",
   "metadata": {},
   "source": [
    "## Plot Virtual Receiver Groups"
   ]
  },
  {
   "cell_type": "code",
   "execution_count": null,
   "metadata": {},
   "outputs": [],
   "source": [
    "all_g_xyz = get_xyz_coords_from_station_list(flatten_grouped_headers(l_grp_vrecs))\n",
    "all_g_xyz[:,2] *= -1 #pyview z-up positive and oposize sign of standard geophysics \n",
    "pv_all_points = pv.wrap(all_g_xyz)\n",
    "p = pv.Plotter()\n",
    "p.add_mesh(grid,cmap=cmap,opacity=0.5)\n",
    "#p.add_mesh(slices,cmap=cmap,opacity=1.0)\n",
    "p.add_mesh(pv_all_points, render_points_as_spheres=True, point_size=5,opacity=1.0)\n",
    "p.show()"
   ]
  },
  {
   "cell_type": "markdown",
   "metadata": {},
   "source": [
    "## Make real-receivers/virtual-sources"
   ]
  },
  {
   "cell_type": "code",
   "execution_count": null,
   "metadata": {},
   "outputs": [],
   "source": [
    "h = 3000\n",
    "rec_z = -200\n",
    "vsrc_rec_xyz = np.zeros((9,3))\n",
    "\n",
    "for i in range(vsrc_rec_xyz.shape[0]):\n",
    "    vsrc_rec_xyz[i,:] = vrec_cmt_xyz[0,:]\n",
    "    vsrc_rec_xyz[i,2] = rec_z\n",
    "    \n",
    "# x-h, y-y\n",
    "vsrc_rec_xyz[0,0] = vrec_cmt_xyz[0,0] - h   \n",
    "vsrc_rec_xyz[0,1] = vrec_cmt_xyz[0,1] - h   \n",
    "\n",
    "# x, y-y\n",
    "vsrc_rec_xyz[1,1] = vrec_cmt_xyz[0,1] - h   \n",
    "    \n",
    "# x+h, y-y\n",
    "vsrc_rec_xyz[2,0] = vrec_cmt_xyz[0,0] + h   \n",
    "vsrc_rec_xyz[2,1] = vrec_cmt_xyz[0,1] - h   \n",
    "    \n",
    "# x-h, y\n",
    "vsrc_rec_xyz[3,0] = vrec_cmt_xyz[0,0] - h   \n",
    "\n",
    "# x, y\n",
    "#do nothing but skip to next index below\n",
    "\n",
    "# x+h, y\n",
    "vsrc_rec_xyz[5,0] = vrec_cmt_xyz[0,0] + h   \n",
    "\n",
    "# x-h, y+y\n",
    "vsrc_rec_xyz[6,0] = vrec_cmt_xyz[0,0] - h   \n",
    "vsrc_rec_xyz[6,1] = vrec_cmt_xyz[0,1] + h   \n",
    "\n",
    "# x, y+y\n",
    "vsrc_rec_xyz[7,1] = vrec_cmt_xyz[0,1] + h   \n",
    "\n",
    "# x+h, y+y\n",
    "vsrc_rec_xyz[8,0] = vrec_cmt_xyz[0,0] + h   \n",
    "vsrc_rec_xyz[8,1] = vrec_cmt_xyz[0,1] + h   \n",
    "\n"
   ]
  },
  {
   "cell_type": "markdown",
   "metadata": {},
   "source": [
    "## Plot virtual sources (red) with virtual receivers (white)"
   ]
  },
  {
   "cell_type": "code",
   "execution_count": null,
   "metadata": {},
   "outputs": [],
   "source": [
    "pv_spoints = pv.wrap(vsrc_rec_xyz)\n",
    "p = pv.Plotter()\n",
    "#p.add_mesh(slices,cmap=cmap,opacity=0.50)\n",
    "p.add_mesh(grid,cmap=cmap,opacity=0.3)\n",
    "p.add_mesh(pv_spoints, render_points_as_spheres=True, point_size=8,opacity=1,color='red')\n",
    "#p.add_mesh(pv_rpoints, render_points_as_spheres=True, point_size=5,opacity=0.5)\n",
    "p.add_mesh(all_g_xyz, render_points_as_spheres=True, point_size=5,opacity=0.5)\n",
    "p.show()"
   ]
  },
  {
   "cell_type": "markdown",
   "metadata": {},
   "source": [
    "## Make StationHeaders (real recievers/virtual sources) "
   ]
  },
  {
   "cell_type": "code",
   "execution_count": null,
   "metadata": {
    "scrolled": true
   },
   "outputs": [],
   "source": [
    "l_real_recs = []\n",
    "for i in range(len(vsrc_rec_xyz)):\n",
    "    \n",
    "    tr_bname = 'tr'\n",
    "    new_r = StationHeader(name=tr_bname,\n",
    "                          network='NL', #FIXME\n",
    "                          lon_xc=vsrc_rec_xyz[i,0],\n",
    "                          lat_yc=vsrc_rec_xyz[i,1],\n",
    "                          depth=-vsrc_rec_xyz[i,2], #specfem z-down is positive\n",
    "                          elevation=0.0,\n",
    "                          trid=i)\n",
    "    l_real_recs.append(new_r)\n",
    "    \n",
    "for rec in l_real_recs:\n",
    "    print(rec)\n"
   ]
  },
  {
   "cell_type": "markdown",
   "metadata": {},
   "source": [
    "## Make ForceSolutionHeaders for the above virtual sources (including force-triplets for calculation derivatives)"
   ]
  },
  {
   "cell_type": "code",
   "execution_count": null,
   "metadata": {},
   "outputs": [],
   "source": [
    "l_grp_vsrcs = make_grouped_reciprocal_force_solution_triplet_headers_from_rec_list(l_real_recs)"
   ]
  },
  {
   "cell_type": "markdown",
   "metadata": {},
   "source": [
    "## Make replicates of each virtual receiver list: one for each force-triplet"
   ]
  },
  {
   "cell_type": "code",
   "execution_count": null,
   "metadata": {
    "scrolled": true
   },
   "outputs": [],
   "source": [
    "l_grp_vrecs_by_vsrcs = make_replicated_reciprocal_station_headers_from_src_triplet_list(l_grp_vsrcs,\n",
    "                                                                                          l_grp_vrecs)"
   ]
  },
  {
   "cell_type": "markdown",
   "metadata": {},
   "source": [
    "## Plot virtual sources (red) and virtual receivers (white) FROM headers"
   ]
  },
  {
   "cell_type": "code",
   "execution_count": null,
   "metadata": {
    "scrolled": false
   },
   "outputs": [],
   "source": [
    "grp_s_xyz = get_unique_xyz_coords_from_solution_list(flatten_grouped_headers(l_grp_vsrcs))\n",
    "grp_s_xyz[:,2] *= -1 #pyvista z-up is positive\n",
    "\n",
    "flat_recs = flatten_grouped_headers(flatten_grouped_headers(l_grp_vrecs_by_vsrcs))\n",
    "grp_r_xyz = get_unique_xyz_coords_from_station_list(flat_recs)\n",
    "grp_r_xyz[:,2] *= -1 #pyvista z-up is positive\n",
    "\n",
    "print(len(grp_s_xyz))\n",
    "print(len(grp_r_xyz))\n",
    "\n",
    "pv_spoints = pv.wrap(grp_s_xyz)\n",
    "pv_rpoints = pv.wrap(grp_r_xyz)\n",
    "\n",
    "p = pv.Plotter()\n",
    "p.add_mesh(slices,cmap=cmap,opacity=0.50)\n",
    "p.add_mesh(grid,cmap=cmap,opacity=0.3)\n",
    "p.add_mesh(pv_spoints, render_points_as_spheres=True, point_size=8,opacity=1,color='red')\n",
    "p.add_mesh(pv_rpoints, render_points_as_spheres=True, point_size=5,opacity=0.5)\n",
    "p.show()"
   ]
  },
  {
   "cell_type": "markdown",
   "metadata": {},
   "source": [
    "## Make replicates of each \"real\" receiver list: for each CMT source"
   ]
  },
  {
   "cell_type": "code",
   "execution_count": null,
   "metadata": {},
   "outputs": [],
   "source": [
    "l_grp_recs_by_srcs = make_replicated_station_headers_from_src_list(l_cmt_srcs,l_real_recs)\n",
    "\n",
    "\n",
    "for i in range(len(l_cmt_srcs)):\n",
    "    print(f'***** SRC Records for Source: {i} *****\\n')\n",
    "    for j in range(len(l_real_recs)):\n",
    "        print(f'*** REC Header for Receiver: {j} ***\\n{l_grp_recs_by_srcs[i][j]}')\n",
    "    "
   ]
  },
  {
   "cell_type": "markdown",
   "metadata": {},
   "source": [
    "## Plot \"real\" sources (red) and virtual receivers (white) FROM headers"
   ]
  },
  {
   "cell_type": "code",
   "execution_count": null,
   "metadata": {},
   "outputs": [],
   "source": [
    "grp_s_xyz = get_unique_xyz_coords_from_solution_list(l_cmt_srcs)\n",
    "grp_s_xyz[:,2] *= -1 #pyvista z-up is positive\n",
    "\n",
    "flat_recs = flatten_grouped_headers(l_grp_recs_by_srcs) #real!\n",
    "grp_r_xyz = get_unique_xyz_coords_from_station_list(flat_recs)\n",
    "grp_r_xyz[:,2] *= -1 #pyvista z-up is positive\n",
    "\n",
    "print(len(grp_s_xyz))\n",
    "print(len(grp_r_xyz))\n",
    "\n",
    "pv_spoints = pv.wrap(grp_s_xyz)\n",
    "pv_rpoints = pv.wrap(grp_r_xyz)\n",
    "\n",
    "p = pv.Plotter()\n",
    "p.add_mesh(slices,cmap=cmap,opacity=0.50)\n",
    "p.add_mesh(grid,cmap=cmap,opacity=0.3)\n",
    "p.add_mesh(pv_spoints, render_points_as_spheres=True, point_size=12,opacity=1,color='red')\n",
    "p.add_mesh(pv_rpoints, render_points_as_spheres=True, point_size=8,opacity=0.5)\n",
    "p.show()\n",
    "\n",
    "#assert False"
   ]
  },
  {
   "cell_type": "markdown",
   "metadata": {},
   "source": [
    "## Make reciprical RecordHeader"
   ]
  },
  {
   "cell_type": "code",
   "execution_count": null,
   "metadata": {
    "scrolled": false
   },
   "outputs": [],
   "source": [
    "l_flat_vsrcs = flatten_grouped_headers(l_grp_vsrcs)\n",
    "l_flat_vrecs = flatten_grouped_headers(flatten_grouped_headers(l_grp_vrecs_by_vsrcs))\n",
    "\n",
    "vrecord_h = RecordHeader(name='Reciprocal-Record',solutions_h=l_flat_vsrcs,stations_h=l_flat_vrecs)\n",
    "\n",
    "# save the header to disc\n",
    "vrec_fqp = os.path.join(data_out_dir,'simple_record_h')\n",
    "_write_header(vrec_fqp,vrecord_h)\n",
    "\n",
    "#verify file is there\n",
    "!ls -l {vrec_fqp}"
   ]
  },
  {
   "cell_type": "markdown",
   "metadata": {},
   "source": [
    "## Make reciprocal project"
   ]
  },
  {
   "cell_type": "code",
   "execution_count": null,
   "metadata": {
    "scrolled": false
   },
   "outputs": [],
   "source": [
    "test_proj_name = 'ReciprocalGeometricTestProject'\n",
    "test_proj_root_fqp =  os.path.join(data_out_dir, 'tmp/TestProjects/NewMKProj')\n",
    "test_parfile_fqp =  os.path.join(data_out_dir, 'Par_file')\n",
    "test_mesh_fqp = '/scratch/seismology/tcullison/test_mesh/MESH-default_batch_force_src'\n",
    "test_spec_fqp = '/quanta1/home/tcullison/DevGPU_specfem3d'\n",
    "test_pyutils_fqp = '/quanta1/home/tcullison/myscripts/python/specfem/pyutils'\n",
    "test_script_fqp = '/quanta1/home/tcullison/myscripts/specfem'\n",
    "\n",
    "#copy the reciprocal record\n",
    "test_proj_record_h = vrecord_h.copy()\n",
    "\n",
    "make_fwd_project_dir(test_proj_name,\n",
    "                     test_proj_root_fqp,\n",
    "                     test_parfile_fqp,\n",
    "                     test_mesh_fqp,\n",
    "                     test_spec_fqp,\n",
    "                     test_pyutils_fqp,\n",
    "                     test_script_fqp,\n",
    "                     test_proj_record_h,\n",
    "                     copy_mesh=False,\n",
    "                     batch_srcs=False,\n",
    "                     verbose=True,\n",
    "                     max_event_rdirs=MAX_SPEC_SRC)\n",
    "                     #max_event_rdirs=)\n",
    "        \n",
    "\n",
    "print()\n",
    "print('ls:')\n",
    "!ls {test_proj_root_fqp}\n",
    "print('ls:')\n",
    "!ls {test_proj_root_fqp}/*/*\n"
   ]
  },
  {
   "cell_type": "markdown",
   "metadata": {},
   "source": [
    "## Make Forward/Real RecordHeader"
   ]
  },
  {
   "cell_type": "code",
   "execution_count": null,
   "metadata": {
    "scrolled": false
   },
   "outputs": [],
   "source": [
    "l_flat_srcs = l_cmt_srcs #NOTE: we don't need to flatten CMT list because they are not grouped\n",
    "l_flat_recs = flatten_grouped_headers(l_grp_recs_by_srcs) #Note: only one level of flattening\n",
    "\n",
    "record_h = RecordHeader(name='Forward-Record',solutions_h=l_flat_srcs,stations_h=l_flat_recs)\n",
    "print(f'Forward Record:\\n{record_h}')\n",
    "\n",
    "# save the header to disc\n",
    "rec_fqp = os.path.join(data_out_dir,'real_simple_record_h')\n",
    "_write_header(rec_fqp,record_h)\n",
    "\n",
    "#verify file is there\n",
    "!ls -l {rec_fqp}\n",
    "\n",
    "print('l_flat_srcs:',type(l_flat_srcs[0]))\n",
    "\n",
    "assert False"
   ]
  },
  {
   "cell_type": "markdown",
   "metadata": {},
   "source": [
    "## Make \"real\" project"
   ]
  },
  {
   "cell_type": "code",
   "execution_count": null,
   "metadata": {
    "scrolled": false
   },
   "outputs": [],
   "source": [
    "test_real_proj_name = 'ForwardGeometricTestProject'\n",
    "test_proj_root_fqp =  os.path.join(data_out_dir, 'tmp/TestProjects/NewMKProj')\n",
    "test_parfile_fqp =  os.path.join(data_out_dir, 'Par_file')\n",
    "test_mesh_fqp = '/scratch/seismology/tcullison/test_mesh/MESH-default_batch_force_src'\n",
    "test_spec_fqp = '/quanta1/home/tcullison/DevGPU_specfem3d'\n",
    "test_pyutils_fqp = '/quanta1/home/tcullison/myscripts/python/specfem/pyutils'\n",
    "test_script_fqp = '/quanta1/home/tcullison/myscripts/specfem'\n",
    "\n",
    "#copy the forward/real record\n",
    "test_real_proj_record_h = record_h.copy()\n",
    "\n",
    "make_fwd_project_dir(test_real_proj_name,\n",
    "                     test_proj_root_fqp,\n",
    "                     test_parfile_fqp,\n",
    "                     test_mesh_fqp,\n",
    "                     test_spec_fqp,\n",
    "                     test_pyutils_fqp,\n",
    "                     test_script_fqp,\n",
    "                     test_real_proj_record_h,\n",
    "                     copy_mesh=False,\n",
    "                     batch_srcs=False,\n",
    "                     verbose=True,\n",
    "                     max_event_rdirs=MAX_SPEC_SRC)\n",
    "                     #max_event_rdirs=2)\n",
    "\n",
    "\n",
    "print()\n",
    "print('ls:')\n",
    "!ls {test_proj_root_fqp}\n",
    "print('ls:')\n",
    "!ls {test_proj_root_fqp}/*/*"
   ]
  },
  {
   "cell_type": "code",
   "execution_count": null,
   "metadata": {},
   "outputs": [],
   "source": []
  },
  {
   "cell_type": "code",
   "execution_count": null,
   "metadata": {},
   "outputs": [],
   "source": []
  },
  {
   "cell_type": "code",
   "execution_count": null,
   "metadata": {},
   "outputs": [],
   "source": []
  }
 ],
 "metadata": {
  "kernelspec": {
   "display_name": "Python 3",
   "language": "python",
   "name": "python3"
  },
  "language_info": {
   "codemirror_mode": {
    "name": "ipython",
    "version": 3
   },
   "file_extension": ".py",
   "mimetype": "text/x-python",
   "name": "python",
   "nbconvert_exporter": "python",
   "pygments_lexer": "ipython3",
   "version": "3.8.8"
  }
 },
 "nbformat": 4,
 "nbformat_minor": 4
}
