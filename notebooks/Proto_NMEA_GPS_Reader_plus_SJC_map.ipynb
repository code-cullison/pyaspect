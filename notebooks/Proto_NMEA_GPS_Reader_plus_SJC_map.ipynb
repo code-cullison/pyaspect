{
 "cells": [
  {
   "cell_type": "code",
   "execution_count": null,
   "id": "cc443df8",
   "metadata": {},
   "outputs": [],
   "source": [
    "import pynmea2\n",
    "import folium\n",
    "import pandas as pd"
   ]
  },
  {
   "cell_type": "code",
   "execution_count": null,
   "id": "a7c03d02",
   "metadata": {},
   "outputs": [],
   "source": [
    "def read_nmea2(lines,deci=1):\n",
    "    data = []\n",
    "    for line in lines:\n",
    "        try:\n",
    "            msg = pynmea2.parse(line)\n",
    "            \n",
    "            if isinstance(msg, pynmea2.GGA):\n",
    "                lat = msg.latitude\n",
    "                lon = msg.longitude\n",
    "                timestamp = msg.timestamp\n",
    "                elevation = msg.altitude\n",
    "                \n",
    "                data.append({'Latitude': lat, 'Longitude': lon, 'Timestamp': timestamp, 'Elevation': elevation})\n",
    "                \n",
    "        except pynmea2.ParseError:\n",
    "            pass\n",
    "        \n",
    "    return pd.DataFrame(data)[::deci]\n",
    "\n",
    "\n",
    "def create_folium_gps_map_folium(gps_data):\n",
    "    \n",
    "    # calculate center \n",
    "    center_lat = gps_data['Latitude'].mean()\n",
    "    center_lon = gps_data['Longitude'].mean()\n",
    "    \n",
    "    city_map = folium.Map(location=[center_lat, center_lon], zoom_start=12)\n",
    "    \n",
    "    # make a PolyLine to represent the driving path \n",
    "    path = folium.PolyLine(\n",
    "        locations=gps_data[['Latitude','Longitude']].values,\n",
    "        color='blue',\n",
    "        weight=5,\n",
    "        opacity=0.7\n",
    "    )\n",
    "    path.add_to(city_map)\n",
    "    \n",
    "    return city_map"
   ]
  },
  {
   "cell_type": "code",
   "execution_count": null,
   "id": "5b687a1d",
   "metadata": {},
   "outputs": [],
   "source": [
    "nmea_file_path = './data/NMEA_GPS_20231002.txt'\n",
    "deci = 60 #decimate for mapping\n",
    "\n",
    "# open NMEA text file\n",
    "with open(nmea_file_path, 'r') as file:\n",
    "    lines = file.readlines()\n",
    "    gps_df = read_nmea2(lines,deci=deci)\n",
    "\n",
    "# get map for the GPS data\n",
    "city_map = create_folium_gps_map_folium(gps_df)\n",
    "\n",
    "# display \n",
    "city_map"
   ]
  },
  {
   "cell_type": "code",
   "execution_count": null,
   "id": "61e560c6",
   "metadata": {},
   "outputs": [],
   "source": []
  }
 ],
 "metadata": {
  "kernelspec": {
   "display_name": "Python 3 (ipykernel)",
   "language": "python",
   "name": "python3"
  },
  "language_info": {
   "codemirror_mode": {
    "name": "ipython",
    "version": 3
   },
   "file_extension": ".py",
   "mimetype": "text/x-python",
   "name": "python",
   "nbconvert_exporter": "python",
   "pygments_lexer": "ipython3",
   "version": "3.10.8"
  }
 },
 "nbformat": 4,
 "nbformat_minor": 5
}
