{
 "cells": [
  {
   "cell_type": "markdown",
   "metadata": {},
   "source": [
    "# Read the records from the Simple Test of Reciprocity"
   ]
  },
  {
   "cell_type": "markdown",
   "metadata": {},
   "source": [
    "### Step 0\n",
    "\n",
    "Load packages"
   ]
  },
  {
   "cell_type": "code",
   "execution_count": null,
   "metadata": {},
   "outputs": [],
   "source": [
    "#load all packages\n",
    "import datetime\n",
    "import pickle\n",
    "import copy\n",
    "import os\n",
    "\n",
    "from sys import argv\n",
    "from pathlib import Path\n",
    "\n",
    "import numpy as np\n",
    "import pandas as pd\n",
    "import pyvista as pv\n",
    "import matplotlib.pyplot as plt \n",
    "from matplotlib.colors import Normalize\n",
    "\n",
    "\n",
    "from pyaspect.project import *\n",
    "from pyaspect.model.gridmod3d import gridmod3d as gm\n",
    "from pyaspect.model.bbox import bbox as bb\n",
    "from pyaspect.model.gm3d_utils import *\n",
    "from pyaspect.moment_tensor import MomentTensor\n",
    "from pyaspect.specfemio.headers import *\n",
    "from pyaspect.specfemio.write import *\n",
    "from pyaspect.specfemio.write import _write_header\n",
    "from pyaspect.specfemio.read import _read_headers\n",
    "from pyaspect.specfemio.read import *\n",
    "from pyaspect.specfemio.utils import *\n",
    "\n",
    "\n",
    "import pyaspect.events.gevents as gevents\n",
    "import pyaspect.events.gstations as gstations\n",
    "from pyaspect.events.munge.knmi import correct_station_depths as csd_f\n",
    "import pyaspect.events.mtensors as mtensors\n",
    "from obspy.imaging.beachball import beach\n",
    "from obspy import UTCDateTime\n",
    "import shapefile as sf"
   ]
  },
  {
   "cell_type": "markdown",
   "metadata": {},
   "source": [
    "## Set Project Paths"
   ]
  },
  {
   "cell_type": "code",
   "execution_count": null,
   "metadata": {},
   "outputs": [],
   "source": [
    "data_in_dir  = 'data/output/'\n",
    "data_out_dir = data_in_dir\n",
    "projects_fqp = os.path.join(data_out_dir,'tmp','TestProjects','Computed_Forward_and_Reciprocity_Test')\n",
    "recip_project_fqp = os.path.join(projects_fqp,'ReciprocalTestProject')\n",
    "fwd_project_fqp = os.path.join(projects_fqp,'ForwardTestProject')\n",
    "!ls {recip_project_fqp}\n",
    "print()\n",
    "!ls {fwd_project_fqp}"
   ]
  },
  {
   "cell_type": "markdown",
   "metadata": {},
   "source": [
    "## Read Reciprocal Project RecordHeader and load data"
   ]
  },
  {
   "cell_type": "code",
   "execution_count": null,
   "metadata": {},
   "outputs": [],
   "source": [
    "import glob\n",
    "recip_record_fqp = os.path.join(recip_project_fqp,'pyheader.project_record')\n",
    "recip_record_h = _read_headers(recip_record_fqp)\n",
    "\n",
    "ne = recip_record_h.nevents\n",
    "ns = recip_record_h.nsrc\n",
    "\n",
    "'''\n",
    "''';\n",
    "l_data_x = []\n",
    "l_data_y = []\n",
    "l_data_z = []\n",
    "for idx, row in recip_record_h.stations_df.iterrows():\n",
    "    #fp_prefix = row['data_fqdn'].values[0]\n",
    "    fp_prefix = row['data_fqdn']\n",
    "    fp = os.path.join(projects_fqp,fp_prefix) \n",
    "    for comp in ['X','Y','Z']:\n",
    "        match_fp = fp + '.*X' + comp + '.semd'\n",
    "        cname = 'comp_' + comp\n",
    "        for filepath in glob.glob(match_fp):\n",
    "            #print(f'np.fromfile({filepath}, dtype=np.float32)')\n",
    "            if comp == 'X':\n",
    "                #l_data_x.append((fp_prefix,np.fromfile(filepath, dtype=np.float32)))\n",
    "                l_data_x.append(np.fromfile(filepath, dtype=np.float32))\n",
    "            elif comp == 'Y':\n",
    "                #l_data_y.append((fp_prefix,np.fromfile(filepath, dtype=np.float32)))\n",
    "                l_data_y.append(np.fromfile(filepath, dtype=np.float32))\n",
    "            elif comp == 'Z':\n",
    "                #l_data_z.append((fp_prefix,np.fromfile(filepath, dtype=np.float32)))\n",
    "                l_data_z.append(np.fromfile(filepath, dtype=np.float32))\n",
    "            else:\n",
    "                assert False\n",
    "            \n",
    "recip_record_h.stations_df['comp_EX'] = l_data_x\n",
    "recip_record_h.stations_df['comp_NY'] = l_data_y\n",
    "recip_record_h.stations_df['comp_Z']  = l_data_z\n",
    "\n",
    "'''\n",
    "#print(f'Record w/ data:\\n\\n{recip_record_h.stations_df}')\n",
    "for idx, row in recip_record_h.stations_df.iterrows():\n",
    "    fp_prefix = row['data_fqdn']\n",
    "    x_pre = row['comp_EX'][0]\n",
    "    y_pre = row['comp_NY'][0]\n",
    "    z_pre = row['comp_Z'][0]\n",
    "    assert x_pre == fp_prefix\n",
    "    assert y_pre == fp_prefix\n",
    "    assert z_pre == fp_prefix\n",
    "    #print(f'row[\"comp_EX\"] = {row[\"comp_EX\"]}')\n",
    "''';\n",
    "    \n",
    "print(f'Record w/ data:\\n\\n{recip_record_h.stations_df[\"comp_Z\"]}')\n",
    "\n",
    "'''\n",
    "for eidx, edf in recip_record_h.stations_df.groupby(level='eid'):\n",
    "    assert ns == edf.index.get_level_values('sid').nunique()\n",
    "    for sidx, sdf in edf.groupby(level='sid'):\n",
    "        for ridx, rdf in sdf.groupby(level='trid'):\n",
    "            for gidx, gdf in rdf.groupby(level='gid'):\n",
    "                fp_prefix = gdf['data_fqdn'].values[0]\n",
    "                fp = os.path.join(projects_fqp,fp_prefix) \n",
    "                for comp in ['X','Y','Z']:\n",
    "                    match_fp = fp + '.*X' + comp + '.semd'\n",
    "                    cname = 'comp_' + comp\n",
    "                    for filepath in glob.glob(match_fp):\n",
    "                        #print(f'np.fromfile({filepath}, dtype=np.float32)')\n",
    "                        gdf[cname] = np.fromfile(filepath, dtype=np.float32)\n",
    "        \n",
    "\n",
    "print(recip_record_h)\n",
    "''';\n",
    "    \n",
    "    \n",
    "'''\n",
    "l_traces = []\n",
    "for fp in recip_record_h.stations_df['data_fqdn'].tolist():\n",
    "    \n",
    "    fp_prefix = os.path.join(projects_fqp,fp) \n",
    "    match_fp = fp_prefix + '.*XZ.semd'\n",
    "    #print(f'fp_prefix: {fp_prefix}')\n",
    "    #print(f'match_fp: {match_fp}')\n",
    "    \n",
    "    for filepath in glob.glob(match_fp):\n",
    "        #print(f'files:\\n{filepath}')\n",
    "        zar = np.fromfile(filepath, dtype=np.float32)\n",
    "        #print(f'zar.shape = {zar.shape}')\n",
    "        l_traces.append(zar)\n",
    "\n",
    "traces_z = np.array(l_traces)\n",
    "print(f'traces_z.shape: {traces_z.shape}')\n",
    "''';\n",
    "    \n",
    "      \n",
    "'''\n",
    "for idx, rec in recip_record_h.stations_df['data_fqdn'].iterrows():\n",
    "    print(f'idx: {idx}')\n",
    "    print(f'rec:\\n{rec}')\n",
    "''';\n",
    "\n",
    "'''\n",
    "plt.plot(traces_z[100])\n",
    "plt.show()\n",
    "''';"
   ]
  },
  {
   "cell_type": "code",
   "execution_count": null,
   "metadata": {},
   "outputs": [],
   "source": [
    "\n",
    "x = np.array([np.array([1,2,3],dtype=np.float32),np.array([4,5,6,7],dtype=np.float32)],dtype=object)"
   ]
  },
  {
   "cell_type": "code",
   "execution_count": null,
   "metadata": {},
   "outputs": [],
   "source": [
    "print(x[0][1]) \n",
    "print(x[1][0]) "
   ]
  },
  {
   "cell_type": "code",
   "execution_count": null,
   "metadata": {},
   "outputs": [],
   "source": [
    "type(x) "
   ]
  },
  {
   "cell_type": "code",
   "execution_count": null,
   "metadata": {},
   "outputs": [],
   "source": []
  }
 ],
 "metadata": {
  "kernelspec": {
   "display_name": "Python 3",
   "language": "python",
   "name": "python3"
  },
  "language_info": {
   "codemirror_mode": {
    "name": "ipython",
    "version": 3
   },
   "file_extension": ".py",
   "mimetype": "text/x-python",
   "name": "python",
   "nbconvert_exporter": "python",
   "pygments_lexer": "ipython3",
   "version": "3.8.8"
  }
 },
 "nbformat": 4,
 "nbformat_minor": 4
}
