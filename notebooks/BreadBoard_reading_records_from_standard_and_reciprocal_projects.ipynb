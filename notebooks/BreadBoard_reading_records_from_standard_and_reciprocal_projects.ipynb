{
 "cells": [
  {
   "cell_type": "markdown",
   "metadata": {},
   "source": [
    "# Working comparing reciprocal and standard records and reading data"
   ]
  },
  {
   "cell_type": "code",
   "execution_count": null,
   "metadata": {},
   "outputs": [],
   "source": [
    "#load all packages\n",
    "import datetime\n",
    "import pickle\n",
    "import copy\n",
    "import os\n",
    "\n",
    "from pathlib import Path\n",
    "\n",
    "import numpy as np\n",
    "import pandas as pd\n",
    "import pyvista as pv\n",
    "import matplotlib.pyplot as plt \n",
    "\n",
    "from sys import argv\n",
    "\n",
    "from matplotlib.colors import Normalize\n",
    "from pyaspect.model.gridmod3d import gridmod3d as gm\n",
    "from pyaspect.model.bbox import bbox as bb\n",
    "from pyaspect.model.gm3d_utils import *\n",
    "from pyaspect.moment_tensor import MomentTensor\n",
    "from pyaspect.specfemio.headers import *\n",
    "from pyaspect.specfemio.write import *\n",
    "from pyaspect.specfemio.read import *\n",
    "from pyaspect.specfemio.utils import *\n",
    "\n",
    "import pyaspect.events.gevents as gevents\n",
    "import pyaspect.events.gstations as gstations\n",
    "from pyaspect.events.munge.knmi import correct_station_depths as csd_f\n",
    "import pyaspect.events.mtensors as mtensors\n",
    "from obspy.imaging.beachball import beach\n",
    "from obspy import UTCDateTime\n",
    "import shapefile as sf"
   ]
  },
  {
   "cell_type": "markdown",
   "metadata": {},
   "source": [
    "## seting up dirs"
   ]
  },
  {
   "cell_type": "code",
   "execution_count": null,
   "metadata": {},
   "outputs": [],
   "source": [
    "data_in_dir  = 'data/output/'\n",
    "data_out_dir = data_in_dir\n",
    "proj_dirs = f'{data_out_dir}tmp/TestProjects/Computed_Forward_and_Reciprocity_Test'\n",
    "standard_proj_dir = f'{proj_dirs}/ForwardTestProject'\n",
    "reciprocal_proj_dir = f'{proj_dirs}/ReciprocalTestProject'\n",
    "\n",
    "print('Standard Project Contents:')\n",
    "print('--------------------------')\n",
    "!ls {standard_proj_dir}\n",
    "print()\n",
    "print('Reciprocal Project Contents:')\n",
    "print('--------------------------')\n",
    "!ls {reciprocal_proj_dir}\n"
   ]
  },
  {
   "cell_type": "markdown",
   "metadata": {},
   "source": [
    "## read records"
   ]
  },
  {
   "cell_type": "code",
   "execution_count": null,
   "metadata": {},
   "outputs": [],
   "source": [
    "standard_records_fqp = os.path.join(standard_proj_dir,'pyheader.proj_records')\n",
    "reciprocal_records_fqp = os.path.join(reciprocal_proj_dir,'pyheader.proj_records')\n",
    "\n",
    "standard_records_h = read_records(standard_records_fqp)\n",
    "reciprocal_records_h = read_records(reciprocal_records_fqp)\n",
    "\n",
    "'''\n",
    "''';\n",
    "print(f'Standard Project Records:\\n')\n",
    "for record in standard_records_h:\n",
    "    print(f'{len(record.get_solutions_header_list())}\\n')\n",
    "    print(f'{len(record.get_stations_header_list())}\\n')\n",
    "\n",
    "print(f'Reciprocal Project Records:\\n')\n",
    "for record in reciprocal_records_h:\n",
    "    #print(f'{record}\\n')\n",
    "    print(f'{len(record.get_solutions_header_list())}\\n')\n",
    "    print(f'{len(record.get_stations_header_list())}\\n')\n",
    "    \n",
    "recip_rec = reciprocal_records_h[0]"
   ]
  },
  {
   "cell_type": "code",
   "execution_count": null,
   "metadata": {
    "scrolled": false
   },
   "outputs": [],
   "source": [
    "idx = pd.IndexSlice\n",
    "#print(recip_rec.get_solutions_header_list(key='depth',value=3.14))\n",
    "r_df = recip_rec.solutions_df\n",
    "#r_df = recip_rec.stations_df\n",
    "#print(r_df.columns)\n",
    "key = 'sid'\n",
    "value = 1\n",
    "#c_df = r_df.loc[r_df[key] == value]\n",
    "#cidx = idx[slice(0),slice(0,1),slice(0,1),slice(0,7,2)]\n",
    "#cidx = idx[slice(0),slice(0,1)]\n",
    "tupix = (slice(0),slice(0,1))\n",
    "#print('type(tupix):',type(tupix))\n",
    "cidx = idx[tupix]\n",
    "#cidx = idx[slice(0)]\n",
    "#print(f'weird:\\n{cidx}')\n",
    "\n",
    "c_df = r_df.loc[cidx,:]\n",
    "#print(f'r_df:\\n{r_df}\\n')\n",
    "#print(f'c_df:\\n{c_df}')\n",
    "\n",
    "print()\n",
    "print('-------------------- SLICED -------------------------------------------')\n",
    "#s_rec = recip_rec[:,:,::2,::2]\n",
    "s_rec = recip_rec.copy()\n",
    "#print(s_rec)\n",
    "print('get_val:',s_rec.solutions_df.index.get_level_values('sid').nunique)\n",
    "print('level:',s_rec.solutions_df.index.levels[0])\n",
    "print()\n",
    "s_rec.solutions_df.reset_index()\n",
    "print('count:',len(s_rec.stations_df))\n",
    "print(dir(s_rec.stations_df.index))\n",
    "print('series:',s_rec.stations_df.index.to_series().nunique())\n"
   ]
  },
  {
   "cell_type": "code",
   "execution_count": null,
   "metadata": {
    "scrolled": false
   },
   "outputs": [],
   "source": [
    "src_df = recip_rec.solutions_df.copy()\n",
    "rec_df = recip_rec.stations_df.copy()\n",
    "\n",
    "print(f'Source DF:\\n{src_df}')\n",
    "print('\\n\\n')\n",
    "print(f'Receiver DF:\\n{rec_df}')\n",
    "\n",
    "print('\\n\\n')\n",
    "print('------------------------------- Renamed ---------------------------------------')\n",
    "\n",
    "#src_df.rename(columns = {'lat_yc': 'src.lat_yc', 'lon_xc': 'src.lon_xc'}, inplace=True)\n",
    "#src_df.columns = ['src.' + col if col != 'col1' and col != 'col2' else col for col in df.columns]\n",
    "src_df.reset_index(inplace=True)\n",
    "src_df.set_index(['proj_id','eid','sid'],inplace=True)\n",
    "src_df.columns = 'src.' + src_df.columns\n",
    "rec_df.reset_index(inplace=True)\n",
    "rec_df.set_index(['proj_id','eid','sid','trid','gid'],inplace=True)\n",
    "rec_df.columns = 'rec.' + rec_df.columns\n",
    "\n",
    "#new_df = rec_df + src_df\n",
    "idx = pd.IndexSlice\n",
    "\n",
    "print(f'Source DF:\\n{src_df}')\n",
    "print('\\n\\n')\n",
    "print(f'Receiver DF:\\n{rec_df}')\n",
    "print('\\n\\n')\n",
    "print(f'slice rec DF:\\n{rec_df.loc[idx[0,0,0,:,:],:]}')"
   ]
  },
  {
   "cell_type": "code",
   "execution_count": null,
   "metadata": {},
   "outputs": [],
   "source": [
    "class TRac():\n",
    "    def __init__(self):\n",
    "        \n",
    "        myzeros  = np.arange(10)\n",
    "        myones   = 10 + myzeros.copy()\n",
    "        mytwos   = 10 + myones.copy()\n",
    "        mythrees = 10 + mytwos.copy()\n",
    "        \n",
    "        self.data = {'zero':myzeros,'one':myones,'two':mytwos,'three':mythrees}\n",
    "        \n",
    "    def append(self, item):\n",
    "        self.data.append(item)\n",
    "        \n",
    "    def __getitem__(self, *kslice):\n",
    "        print('len(kslice):',len(kslice))\n",
    "        print('kslice:',kslice)\n",
    "        print('type(kslice[0]):',type(kslice[0]))\n",
    "        rval = None\n",
    "        if isinstance(*kslice,slice):\n",
    "            print('is instance')\n",
    "            j = 0\n",
    "            if 1 < len(*kslice) and len(*kslice) <= 2:\n",
    "                j = 1\n",
    "            else:\n",
    "                raise Exception(f'too many slice indices')\n",
    "                \n",
    "            rval = []\n",
    "            for i in range(kslice[0].start,kslice[0].stop,kslice[0].step):\n",
    "                print('i:',i)\n",
    "                rval.append(self.data[list(self.data.keys())[i]][kslice[j].start:kslice[j].stop:kslice[j].step])\n",
    "                \n",
    "        elif isinstance(kslice[0],str):\n",
    "            rval = self.data[kslice]\n",
    "        else:\n",
    "            raise Exception(f'incorrect index type')\n",
    "            \n",
    "        return rval \n",
    "    \n",
    "    \n",
    "trac = TRac()\n",
    "#x = trac[0:6:2,2:4,0:3,1:3]\n",
    "#x = trac['depth']\n",
    "#x = trac[0:4:2,2:4]\n",
    "#x = trac[1:3:2,0:9:3]\n",
    "x = trac[1:3:2]\n",
    "print(x)\n",
    "print()\n",
    "y = trac['three']\n",
    "print(y)\n",
    "print()\n",
    "\n",
    "#print(x[0])\n",
    "#print()\n",
    "#print(dir(x[0]))\n",
    "#print('start:',x[0].start)\n",
    "#print('stop: ',x[0].stop)\n",
    "#print('step: ',x[0].step)"
   ]
  },
  {
   "cell_type": "code",
   "execution_count": null,
   "metadata": {},
   "outputs": [],
   "source": [
    "def test_func(*args):\n",
    "    print(len(args))\n",
    "    \n",
    "test_func(slice(0))"
   ]
  },
  {
   "cell_type": "code",
   "execution_count": null,
   "metadata": {},
   "outputs": [],
   "source": [
    "#yt = (1,2,3,4,5,6)\n",
    "yt = (1,)\n",
    "print(yt[0:2])"
   ]
  },
  {
   "cell_type": "code",
   "execution_count": null,
   "metadata": {},
   "outputs": [],
   "source": []
  }
 ],
 "metadata": {
  "kernelspec": {
   "display_name": "Python 3",
   "language": "python",
   "name": "python3"
  },
  "language_info": {
   "codemirror_mode": {
    "name": "ipython",
    "version": 3
   },
   "file_extension": ".py",
   "mimetype": "text/x-python",
   "name": "python",
   "nbconvert_exporter": "python",
   "pygments_lexer": "ipython3",
   "version": "3.8.8"
  }
 },
 "nbformat": 4,
 "nbformat_minor": 4
}
