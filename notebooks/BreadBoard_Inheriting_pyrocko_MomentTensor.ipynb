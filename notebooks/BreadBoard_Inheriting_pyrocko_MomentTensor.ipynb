{
 "cells": [
  {
   "cell_type": "code",
   "execution_count": null,
   "metadata": {},
   "outputs": [],
   "source": [
    "import numpy as np\n",
    "from scipy.spatial.transform import Rotation as R"
   ]
  },
  {
   "cell_type": "code",
   "execution_count": null,
   "metadata": {},
   "outputs": [],
   "source": [
    "\n",
    "def get_aki(strike,dip,rake):\n",
    "    #Aki and Richards\n",
    "    Mxx = -( np.sin(dip)*np.cos(rake)*np.sin(2*strike) + np.sin(2*dip)*np.sin(rake)*(np.sin(strike)**2) )\n",
    "    Myy =  ( np.sin(dip)*np.cos(rake)*np.sin(2*strike) - np.sin(2*dip)*np.sin(rake)*(np.cos(strike)**2) )\n",
    "    #Mzz =  (np.sin(2*dip)*np.sin(rake))\n",
    "    Mzz = -( Mxx + Myy )\n",
    "    Mxy =  ( np.sin(dip)*np.cos(rake)*np.cos(2*strike) + 0.5*np.sin(2*dip)*np.sin(rake)*np.sin(2*strike) )\n",
    "    Mxz = -( np.cos(dip)*np.cos(rake)*np.cos(strike)   + np.cos(2*dip)*np.sin(rake)*np.sin(strike) )\n",
    "    Myz = -( np.cos(dip)*np.cos(rake)*np.sin(strike)   - np.cos(2*dip)*np.sin(rake)*np.cos(strike) )\n",
    "\n",
    "    return np.array([Mxx,Myy,Mzz,Mxy,Mxz,Myz])\n",
    "    #return np.array([[Mxx,Mxy,Mxz],[Mxy,Myy,Myz],[Mxz,Myz,Mzz]])\n"
   ]
  },
  {
   "cell_type": "code",
   "execution_count": null,
   "metadata": {},
   "outputs": [],
   "source": [
    "#strike = 120.0\n",
    "#dip    = 30.0\n",
    "#rake   = 45.0\n",
    "\n",
    "strike = 130\n",
    "dip = 40\n",
    "rake = 110\n",
    "\n",
    "mt = get_aki(np.deg2rad(strike),np.deg2rad(dip),np.deg2rad(rake))\n",
    "print('MT:\\n',mt)\n",
    "print('rocko:\\n','[-0.75956309 -0.16585349  0.92541658 -0.4175028  -0.29341204  0.09581821]')"
   ]
  },
  {
   "cell_type": "code",
   "execution_count": null,
   "metadata": {},
   "outputs": [],
   "source": [
    "#r = R.from_matrix(mt)\n",
    "#r = R.from_rotvec([np.deg2rad(strike),np.deg2rad(dip),np.deg2rad(rake)])\n",
    "#r = R.from_rotvec([np.deg2rad(strike),np.deg2rad(rake),np.deg2rad(dip)])\n",
    "#r = R.from_rotvec([np.deg2rad(dip),np.deg2rad(rake),np.deg2rad(strike)])\n",
    "#r = R.from_rotvec([np.deg2rad(dip),np.deg2rad(strike),np.deg2rad(rake)])\n",
    "#r = R.from_rotvec([np.deg2rad(rake),np.deg2rad(strike),np.deg2rad(dip)])\n",
    "r = R.from_rotvec([np.deg2rad(rake),np.deg2rad(dip),np.deg2rad(strike)])\n",
    "print('r:',r.as_matrix())\n"
   ]
  },
  {
   "cell_type": "code",
   "execution_count": null,
   "metadata": {},
   "outputs": [],
   "source": [
    "from pyrocko import moment_tensor as pmt\n",
    "import numpy as num\n",
    "\n",
    "r2d = 180. / num.pi\n",
    "\n",
    "magnitude = 6.3  # Magnitude of the earthquake\n",
    "\n",
    "exp = pmt.magnitude_to_moment(magnitude)  # convert the mag to moment in [Nm]\n",
    "\n",
    "m_vals = (-0.75956309,-0.16585349,0.92541658,-0.4175028,-0.29341204,0.09581821,magnitude)\n",
    "m = pmt.MomentTensor.from_values(m_vals)\n",
    "\n",
    "# init pyrocko moment tensor\n",
    "\n",
    "'''\n",
    "m = pmt.MomentTensor(\n",
    "    mnn = -0.75956309*exp,\n",
    "    mee = -0.16585349*exp,\n",
    "    mdd =  0.92541658*exp,\n",
    "    mne = -0.4175028*exp,\n",
    "    mnd = -0.29341204*exp,\n",
    "    med = 0.09581821*exp)\n",
    "''';\n",
    "    \n",
    "'''\n",
    "mnn=2.34*exp,\n",
    "mee=-2.64*exp,\n",
    "mdd=0.295*exp,\n",
    "mne=1.49*exp,\n",
    "mnd=0.182*exp,\n",
    "med=-0.975*exp)\n",
    "''';\n",
    "\n",
    "print(m)  # print moment tensor\n",
    "\n",
    "# gives out both nodal planes:\n",
    "(s1, d1, r1), (s2, d2, r2) = m.both_strike_dip_rake()\n",
    "\n",
    "print('strike1=%g, dip1=%g, rake1=%g' % (s1, d1, r1))\n",
    "print('strike2=%g, dip2=%g, rake2=%g' % (s2, d2, r2))\n",
    "\n",
    "\n",
    "# p-axis normal vector in north-east-down coordinates\n",
    "p_ned = m.p_axis().A[0]\n",
    "\n",
    "print('p_ned=(%g, %g, %g)' % tuple(p_ned))\n",
    "\n",
    "# convert to azimuth and dip\n",
    "p_azimuth = num.arctan2(p_ned[1], p_ned[0]) * r2d\n",
    "p_dip = num.arcsin(p_ned[2]) * r2d\n",
    "\n",
    "print('p_azimuth=%g, p_dip=%g' % (p_azimuth, p_dip))"
   ]
  },
  {
   "cell_type": "code",
   "execution_count": null,
   "metadata": {},
   "outputs": [],
   "source": [
    "from pyaspect.moment_tensor import MomentTensor as my_mt\n",
    "import pyaspect.moment_tensor as mt_mod"
   ]
  },
  {
   "cell_type": "code",
   "execution_count": null,
   "metadata": {},
   "outputs": [],
   "source": [
    "#exp = mt_mod.magnitude_to_moment(magnitude)  # convert the mag to moment in [Nm]\n",
    "exp = pmt.magnitude_to_moment(magnitude)  # convert the mag to moment in [Nm]\n",
    "\n",
    "m_vals = (-0.75956309,-0.16585349,0.92541658,-0.4175028,-0.29341204,0.09581821,magnitude)\n",
    "m = mt_mod.MomentTensor.from_values(m_vals)\n",
    "\n",
    "# init pyrocko moment tensor\n",
    "\n",
    "'''\n",
    "m = pmt.MomentTensor(\n",
    "    mnn = -0.75956309*exp,\n",
    "    mee = -0.16585349*exp,\n",
    "    mdd =  0.92541658*exp,\n",
    "    mne = -0.4175028*exp,\n",
    "    mnd = -0.29341204*exp,\n",
    "    med = 0.09581821*exp)\n",
    "''';\n",
    "    \n",
    "'''\n",
    "mnn=2.34*exp,\n",
    "mee=-2.64*exp,\n",
    "mdd=0.295*exp,\n",
    "mne=1.49*exp,\n",
    "mnd=0.182*exp,\n",
    "med=-0.975*exp)\n",
    "''';\n",
    "\n",
    "print(m)  # print moment tensor\n",
    "\n",
    "# gives out both nodal planes:\n",
    "(s1, d1, r1), (s2, d2, r2) = m.both_strike_dip_rake()\n",
    "\n",
    "print('strike1=%g, dip1=%g, rake1=%g' % (s1, d1, r1))\n",
    "print('strike2=%g, dip2=%g, rake2=%g' % (s2, d2, r2))\n",
    "\n",
    "\n",
    "# p-axis normal vector in north-east-down coordinates\n",
    "p_ned = m.p_axis().A[0]\n",
    "\n",
    "print('p_ned=(%g, %g, %g)' % tuple(p_ned))\n",
    "\n",
    "# convert to azimuth and dip\n",
    "p_azimuth = num.arctan2(p_ned[1], p_ned[0]) * r2d\n",
    "p_dip = num.arcsin(p_ned[2]) * r2d\n",
    "\n",
    "print('p_azimuth=%g, p_dip=%g' % (p_azimuth, p_dip))"
   ]
  },
  {
   "cell_type": "code",
   "execution_count": null,
   "metadata": {},
   "outputs": [],
   "source": [
    "from pyrocko import moment_tensor as pmt\n",
    "\n",
    "magnitude = 6.3  # Magnitude of the earthquake\n",
    "\n",
    "m0 = pmt.magnitude_to_moment(magnitude)  # convert the mag to moment\n",
    "\n",
    "#strike = 130\n",
    "#dip = 40\n",
    "#rake = 110\n",
    "#strike=284.586\n",
    "#dip=52.8414\n",
    "#rake=73.9871\n",
    "strike = 180\n",
    "dip = 45\n",
    "rake = 90\n",
    "\n",
    "mt = pmt.MomentTensor(strike=strike, dip=dip, rake=rake, scalar_moment=m0)\n",
    "print(mt)  # print moment tensor\n",
    "\n",
    "# gives out both nodal planes:\n",
    "(s1, d1, r1), (s2, d2, r2) = mt.both_strike_dip_rake()\n",
    "\n",
    "print('strike1=%g, dip1=%g, rake1=%g' % (s1, d1, r1))\n",
    "print('strike2=%g, dip2=%g, rake2=%g' % (s2, d2, r2))\n",
    "\n",
    "m6 = [mt.mnn, mt.mee, mt.mdd, mt.mne, mt.mnd, mt.med]  # The six MT components\n",
    "print(m6/mt.scalar_moment())  # normalized MT components"
   ]
  },
  {
   "cell_type": "code",
   "execution_count": null,
   "metadata": {},
   "outputs": [],
   "source": [
    "test = my_mt(mw=magnitude,strike=strike,dip=dip,rake=rake)\n",
    "pm0 = mt.moment\n",
    "m0  = test.aki_moment\n",
    "print('pmt.m0:',pm0)\n",
    "print('mt.m0: ',m0)\n",
    "pmW = mt.magnitude\n",
    "mW  = test.magnitude\n",
    "print('pmt.mW:',pmW)\n",
    "print('mt.mW: ',mW)\n"
   ]
  },
  {
   "cell_type": "code",
   "execution_count": null,
   "metadata": {},
   "outputs": [],
   "source": [
    "#print(test.get_aki_tensor_as_array_Nm()/mt.scalar_moment())\n",
    "#print(test.get_aki_tensor_as_array_unit()/m0)"
   ]
  },
  {
   "cell_type": "code",
   "execution_count": null,
   "metadata": {},
   "outputs": [],
   "source": [
    "print('my unit aki:\\n',test.aki_richards_m6()/test.aki_moment)\n",
    "print()\n",
    "print('procko unit aki:\\n',mt.m6()/mt.moment)\n",
    "print()\n",
    "\n",
    "#test.harvard_matrix()/m0\n",
    "print('my unit aki matrix:\\n',test.aki_richards_matrix()/test.aki_moment)\n",
    "print()\n",
    "print('procko unit aki matrix:\\n',mt.m()/mt.moment)"
   ]
  },
  {
   "cell_type": "code",
   "execution_count": null,
   "metadata": {},
   "outputs": [],
   "source": [
    "print('my unit harvard:\\n',test.harvard_m6()/test.aki_moment)\n",
    "print()\n",
    "print('procko unit harvard:\\n',mt.m6_up_south_east()/mt.moment)\n",
    "print()\n",
    "\n",
    "print('my unit harvard matrix:\\n',test.harvard_matrix()/test.aki_moment)\n",
    "print()\n",
    "print('procko unit harvard matrix:\\n',mt.m_up_south_east()/mt.moment)\n"
   ]
  },
  {
   "cell_type": "code",
   "execution_count": null,
   "metadata": {},
   "outputs": [],
   "source": [
    "print('my dcm harvard:\\n',test.harvard_dcm_m6())\n",
    "print()\n",
    "print('my Nm harvard:\\n',test.harvard_m6())\n",
    "print()\n",
    "\n",
    "print('my unit harvard matrix:\\n',test.harvard_matrix()/test.aki_moment)\n",
    "print()\n",
    "print('procko unit harvard matrix:\\n',mt.m_up_south_east()/mt.moment)"
   ]
  },
  {
   "cell_type": "code",
   "execution_count": null,
   "metadata": {},
   "outputs": [],
   "source": []
  }
 ],
 "metadata": {
  "kernelspec": {
   "display_name": "Python 3",
   "language": "python",
   "name": "python3"
  },
  "language_info": {
   "codemirror_mode": {
    "name": "ipython",
    "version": 3
   },
   "file_extension": ".py",
   "mimetype": "text/x-python",
   "name": "python",
   "nbconvert_exporter": "python",
   "pygments_lexer": "ipython3",
   "version": "3.8.8"
  }
 },
 "nbformat": 4,
 "nbformat_minor": 4
}
