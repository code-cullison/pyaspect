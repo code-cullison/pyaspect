{
 "cells": [
  {
   "cell_type": "markdown",
   "metadata": {},
   "source": [
    "# Get Single RecipCMT Traces.  Using record.py module functions"
   ]
  },
  {
   "cell_type": "code",
   "execution_count": null,
   "metadata": {},
   "outputs": [],
   "source": [
    "import os\n",
    "\n",
    "import numpy as np\n",
    "import pandas as pd\n",
    "\n",
    "import matplotlib.pyplot as plt\n",
    "    \n",
    "from scipy import signal\n",
    "\n",
    "from pyaspect.moment_tensor import MomentTensor\n",
    "from pyaspect.specfemio.record import Record\n",
    "import pyaspect.specfemio.record as record\n",
    "from pyaspect.specfemio.read import _read_headers"
   ]
  },
  {
   "cell_type": "markdown",
   "metadata": {},
   "source": [
    "## paths"
   ]
  },
  {
   "cell_type": "code",
   "execution_count": null,
   "metadata": {},
   "outputs": [],
   "source": [
    "data_in_dir  = 'data/output/'\n",
    "data_out_dir = data_in_dir\n",
    "!ls {data_out_dir}/tmp/TestProjects/CGFR_Test"
   ]
  },
  {
   "cell_type": "code",
   "execution_count": null,
   "metadata": {},
   "outputs": [],
   "source": [
    "projects_fqp = os.path.join(data_out_dir,'tmp','TestProjects','CGFR_Test')\n",
    "#recip_project_fqp = os.path.join(projects_fqp,'ReciprocalGeometricTestProject') #geometric\n",
    "#fwd_project_fqp = os.path.join(projects_fqp,'ForwardGeometricTestProject')      #geometric\n",
    "recip_project_fqp = os.path.join(projects_fqp,'ReciprocalTestProject') #Groningen\n",
    "fwd_project_fqp = os.path.join(projects_fqp,'ForwardTestProject')      #Groningen\n",
    "!ls {recip_project_fqp}\n",
    "print()\n",
    "!ls {fwd_project_fqp}/run0001/OUTPUT_FILES/plot_source_time_function.txt"
   ]
  },
  {
   "cell_type": "markdown",
   "metadata": {},
   "source": [
    "## Read Source-Time function"
   ]
  },
  {
   "cell_type": "code",
   "execution_count": null,
   "metadata": {},
   "outputs": [],
   "source": [
    "of_fqp = os.path.join(fwd_project_fqp,'run0001','OUTPUT_FILES')\n",
    "stf_fqp = os.path.join(of_fqp,'plot_source_time_function.txt')\n",
    "!ls {stf_fqp}\n",
    "\n",
    "stf_pair = np.genfromtxt(stf_fqp,dtype=np.float64).transpose()\n",
    "stf_amp = stf_pair[1,:].copy()\n",
    "stf_time = stf_pair[0,:].copy()\n",
    "\n",
    "print(stf_amp)\n",
    "print(stf_time)"
   ]
  },
  {
   "cell_type": "markdown",
   "metadata": {},
   "source": [
    "## Read Source-Time function from Reciprocal Force Simulations"
   ]
  },
  {
   "cell_type": "code",
   "execution_count": null,
   "metadata": {},
   "outputs": [],
   "source": [
    "recip_of_fqp = os.path.join(recip_project_fqp,'run0001','OUTPUT_FILES')\n",
    "recip_stf_fqp = os.path.join(recip_of_fqp,'plot_source_time_function.txt')\n",
    "!ls {recip_stf_fqp}\n",
    "\n",
    "recip_stf_pair = np.genfromtxt(recip_stf_fqp,dtype=np.float64).transpose()\n",
    "recip_stf_amp = recip_stf_pair[1,:].copy()\n",
    "recip_stf_time = recip_stf_pair[0,:].copy()\n",
    "\n",
    "print(recip_stf_amp)\n",
    "print(recip_stf_time)"
   ]
  },
  {
   "cell_type": "markdown",
   "metadata": {},
   "source": [
    "## Instantiate Record, and test slicing and pandas operations with DataFrames"
   ]
  },
  {
   "cell_type": "code",
   "execution_count": null,
   "metadata": {
    "scrolled": true
   },
   "outputs": [],
   "source": [
    "recip_record_fqp = os.path.join(recip_project_fqp,'pyheader.project_record')\n",
    "recip_record = Record(recip_record_fqp)\n",
    "\n",
    "ne = recip_record.nevents\n",
    "ns = recip_record.nsrc\n",
    "\n",
    "\n",
    "print(f'ne:{ne}, ns:{ns}')\n",
    "print(f'recip: {recip_record.is_reciprocal}')\n",
    "print(f'Recip Header:\\n{recip_record.solutions_df.loc[pd.IndexSlice[:,1],:]}')\n",
    "print(f'Recip Header:\\n{recip_record}')"
   ]
  },
  {
   "cell_type": "markdown",
   "metadata": {},
   "source": [
    "## create Reciprocal Green's Table (as DataFrame)"
   ]
  },
  {
   "cell_type": "code",
   "execution_count": null,
   "metadata": {
    "scrolled": true
   },
   "outputs": [],
   "source": [
    "f_low = 1.0\n",
    "f_high = 100.0\n",
    "nsamp = 1000\n",
    "rgf_data_df = record.calc_dataframe_rgf(recip_record,f_low,f_high,nsamp)\n",
    "rgf_data_df"
   ]
  },
  {
   "cell_type": "code",
   "execution_count": null,
   "metadata": {},
   "outputs": [],
   "source": [
    "#print(rgf_data_df)\n",
    "#print(rgf_data_df.loc[0,0,0,:,:])\n",
    "rgf_data_df.loc[(0),:]"
   ]
  },
  {
   "cell_type": "markdown",
   "metadata": {},
   "source": [
    "## Instantiate Forward Record"
   ]
  },
  {
   "cell_type": "code",
   "execution_count": null,
   "metadata": {},
   "outputs": [],
   "source": [
    "fwd_record_fqp = os.path.join(fwd_project_fqp,'pyheader.project_record')\n",
    "fwd_record = Record(fwd_record_fqp)\n",
    "data = fwd_record.data_df\n",
    "print(data.loc[((1, 0, 0, 0), 'comp_EX')])"
   ]
  },
  {
   "cell_type": "markdown",
   "metadata": {},
   "source": [
    "## Get Moment tensors to compare with Foward data and also Construct Combinded Reciprocal CMTs. These functions will not be part of record.py module, but make_moment_tensor will be added to utils.py module"
   ]
  },
  {
   "cell_type": "code",
   "execution_count": null,
   "metadata": {},
   "outputs": [],
   "source": [
    "def make_moment_tensor(src_h):\n",
    "    \n",
    "    mrr = src_h['mrr']\n",
    "    mtt = src_h['mtt']\n",
    "    mpp = src_h['mpp']\n",
    "    mrt = src_h['mrt']\n",
    "    mrp = src_h['mrp']\n",
    "    mtp = src_h['mtp']\n",
    "    \n",
    "    h_matrix = np.array([[mrr,mrt,mrp],[mrt,mtt,mtp],[mrp,mtp,mpp]])\n",
    "    \n",
    "    return MomentTensor(m_up_south_east=h_matrix)\n",
    "\n",
    "\n",
    "#print(f'Forward Record Sources:\\n{fwd_record_h.solutions_df}')\n",
    "SrcHeader = fwd_record.solution_cls\n",
    "\n",
    "d_fwd_src = {}\n",
    "for eidx, edf in fwd_record.solutions_df.groupby(level='eid'):\n",
    "    for sidx, sdf in edf.groupby(level='sid'):\n",
    "        idx = pd.IndexSlice[eidx,sidx]\n",
    "        src = SrcHeader.from_series(fwd_record.solutions_df.loc[idx])\n",
    "        #print(src)\n",
    "        #mag    = src.mw\n",
    "        #strike = src.strike\n",
    "        #dip    = src.dip\n",
    "        #rake   = src.rake\n",
    "        #mt = MomentTensor(mw=mag,strike=strike,dip=dip,rake=rake)\n",
    "        mt = make_moment_tensor(src)\n",
    "        print(mt)\n",
    "        d_fwd_src[eidx] = mt\n",
    "        #print(f'mt.aki_m6:\\n{mt.aki_richards_m6()}')\n",
    "        #print(f'header.m6:\\n{src.mt}\\n')\n",
    "\n",
    "for key in d_fwd_src:\n",
    "    print(d_fwd_src[key].m6_up_south_east())"
   ]
  },
  {
   "cell_type": "markdown",
   "metadata": {},
   "source": [
    "## Construct the Dataframe with the Reciprocal CMT Traces "
   ]
  },
  {
   "cell_type": "code",
   "execution_count": null,
   "metadata": {},
   "outputs": [],
   "source": [
    "#rgf_cmt_data_df = record.make_cmt_data_from_rgf(rgf_data_df,d_fwd_src,recip_stf_amp,stf_amp)\n",
    "rgf_cmt_data_df = record.calc_dataframe_composite_recipt_cmt_for_all_events(rgf_data_df,d_fwd_src,recip_stf_amp,stf_amp)\n",
    "\n",
    "#test_trace = calc_series_composite_recip_cmt_trace(0,0,np.array([1,0,0,0,0,0]),rgf_data_df,recip_stf_amp,stf_amp)\n",
    "#test_trace['comp_EX']\n",
    "rgf_cmt_data_df"
   ]
  },
  {
   "cell_type": "markdown",
   "metadata": {},
   "source": [
    "### Define function for calculation the variance per: [Application to earthquakes...](https://agupubs.onlinelibrary.wiley.com/doi/10.1002/2017JB014230)"
   ]
  },
  {
   "cell_type": "code",
   "execution_count": null,
   "metadata": {},
   "outputs": [],
   "source": [
    "def tensor_variance(t_f, t_r):\n",
    "    \n",
    "    sqsum_f  = np.sum(t_f**2)\n",
    "    sqdifsum = np.sum((t_f - t_r)**2)\n",
    "    \n",
    "    return 1. - np.sqrt(sqdifsum/sqsum_f)"
   ]
  },
  {
   "cell_type": "markdown",
   "metadata": {},
   "source": [
    "## Plot comparison between the Forward and Reciprocal CMT traces"
   ]
  },
  {
   "cell_type": "code",
   "execution_count": null,
   "metadata": {
    "scrolled": false
   },
   "outputs": [],
   "source": [
    "fig = plt.figure()\n",
    "irow = 1\n",
    "icol = 1\n",
    "iplt = 1\n",
    "\n",
    "# Filter Forward/CMT traces the same as the Recriprocal traces\n",
    "sos = signal.butter(3, [f_low,f_high], 'bp', fs=nsamp, output='sos')\n",
    "\n",
    "sidx = 0\n",
    "gidx = 0\n",
    "for eidx in rgf_data_df.index.get_level_values('eid').unique():\n",
    "    mt_arr = d_fwd_src[eidx].m6_up_south_east()\n",
    "    for tidx in rgf_data_df.index.get_level_values('trid').unique():\n",
    "        ic = 0\n",
    "        trace_df = record.calc_series_composite_recip_cmt_trace(eidx,tidx,mt_arr,rgf_data_df,recip_stf_amp,stf_amp)\n",
    "        for c in ['comp_EX','comp_NY','comp_Z']: #FIXME with a dictionary\n",
    "            #r_trace = rgf_cmt_data_df.loc[(eidx,tidx),c]\n",
    "            r_trace = trace_df[c]\n",
    "            f_trace = signal.sosfilt(sos,fwd_record.data_df.loc[(eidx,sidx,tidx,gidx),c])\n",
    "            var = 100*tensor_variance(f_trace,r_trace)\n",
    "            ax = fig.add_subplot(irow,icol,iplt)\n",
    "            ax.plot(r_trace,color='black',linestyle='-',linewidth=5,zorder=0,label='Recip',alpha=0.8)\n",
    "            ax.plot(f_trace,color='gold',linestyle='--',linewidth=2,zorder=1,label='CMT')\n",
    "            ax.set_title(f'Event:{eidx}, Trace:{tidx}, Comp:{c}, Variance:{var:0.1f}')\n",
    "            n = len(fig.axes)\n",
    "            for i in range(n):\n",
    "                fig.axes[i].change_geometry(n+1, 1, i+1)\n",
    "            irow = n+1\n",
    "            iplt = n+1\n",
    "        ic += 1\n",
    "                    \n",
    " \n",
    "fig.set_figwidth(15)\n",
    "fig.set_figheight(3*len(fig.axes))\n",
    "fig.subplots_adjust(hspace=.35)\n",
    "plt.show()"
   ]
  },
  {
   "cell_type": "code",
   "execution_count": null,
   "metadata": {},
   "outputs": [],
   "source": []
  },
  {
   "cell_type": "code",
   "execution_count": null,
   "metadata": {},
   "outputs": [],
   "source": []
  }
 ],
 "metadata": {
  "kernelspec": {
   "display_name": "Python 3",
   "language": "python",
   "name": "python3"
  },
  "language_info": {
   "codemirror_mode": {
    "name": "ipython",
    "version": 3
   },
   "file_extension": ".py",
   "mimetype": "text/x-python",
   "name": "python",
   "nbconvert_exporter": "python",
   "pygments_lexer": "ipython3",
   "version": "3.8.8"
  }
 },
 "nbformat": 4,
 "nbformat_minor": 4
}
